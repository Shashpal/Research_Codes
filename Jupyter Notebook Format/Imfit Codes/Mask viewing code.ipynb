{
 "cells": [
  {
   "cell_type": "code",
   "execution_count": 3,
   "id": "105431ae",
   "metadata": {},
   "outputs": [
    {
     "name": "stdout",
     "output_type": "stream",
     "text": [
      "Masked FITS file created: HE_0435/HE_0435_cropped_mask_residual_ring_for_SR.fits\n"
     ]
    }
   ],
   "source": [
    "import numpy as np\n",
    "from astropy.io import fits\n",
    "\n",
    "def apply_mask(original_fits, mask_fits, output_fits):\n",
    "    \"\"\"\n",
    "    Apply a mask to an original FITS file and create a new FITS file\n",
    "    showing the leftover light after masking.\n",
    "\n",
    "    Parameters:\n",
    "    - original_fits: str, path to the original FITS file containing all the light.\n",
    "    - mask_fits: str, path to the mask FITS file (1 for masked regions, 0 for unmasked).\n",
    "    - output_fits: str, path to save the output FITS file.\n",
    "\n",
    "    Returns:\n",
    "    - None. The result is saved as a new FITS file.\n",
    "    \"\"\"\n",
    "    # Load the original FITS file\n",
    "    with fits.open(original_fits) as hdul_original:\n",
    "        original_data = hdul_original[0].data\n",
    "        original_header = hdul_original[0].header\n",
    "\n",
    "    # Load the mask FITS file\n",
    "    with fits.open(mask_fits) as hdul_mask:\n",
    "        mask_data = hdul_mask[0].data\n",
    "\n",
    "    # Sanity check: Ensure the dimensions of the two files match\n",
    "    if original_data.shape != mask_data.shape:\n",
    "        raise ValueError(\"The dimensions of the original FITS file and the mask FITS file do not match.\")\n",
    "\n",
    "    # Apply the mask: Set regions where mask_data == 1 to 0 in the original data\n",
    "    masked_data = np.where(mask_data == 1, 0, original_data)\n",
    "\n",
    "    # Save the masked data to a new FITS file\n",
    "    hdu = fits.PrimaryHDU(masked_data, header=original_header)\n",
    "    hdu.writeto(output_fits, overwrite=True)\n",
    "\n",
    "    print(f\"Masked FITS file created: {output_fits}\")\n",
    "\n",
    "\n",
    "# Example usage\n",
    "if __name__ == \"__main__\":\n",
    "    # Path to the original FITS file\n",
    "    original_fits = \"HE_0435/HE_0435_cropped_residual_ring.fits\"  # Replace with your original FITS file path\n",
    "\n",
    "    # Path to the mask FITS file\n",
    "    mask_fits = \"HE_0435/HE_0435_cropped_mask_residual_ring.fits\"  # Replace with your mask FITS file path\n",
    "\n",
    "    # Path to save the output FITS file\n",
    "    output_fits = \"HE_0435/HE_0435_cropped_mask_residual_ring_for_SR.fits\"  # Replace with desired output path\n",
    "\n",
    "    # Run the function\n",
    "    apply_mask(original_fits, mask_fits, output_fits)"
   ]
  }
 ],
 "metadata": {
  "kernelspec": {
   "display_name": "Python 3 (ipykernel)",
   "language": "python",
   "name": "python3"
  },
  "language_info": {
   "codemirror_mode": {
    "name": "ipython",
    "version": 3
   },
   "file_extension": ".py",
   "mimetype": "text/x-python",
   "name": "python",
   "nbconvert_exporter": "python",
   "pygments_lexer": "ipython3",
   "version": "3.9.13"
  }
 },
 "nbformat": 4,
 "nbformat_minor": 5
}
