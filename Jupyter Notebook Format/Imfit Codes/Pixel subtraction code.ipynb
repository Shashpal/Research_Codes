{
 "cells": [
  {
   "cell_type": "code",
   "execution_count": 1,
   "id": "879cce54",
   "metadata": {},
   "outputs": [
    {
     "name": "stdout",
     "output_type": "stream",
     "text": [
      "Subtraction complete. Result saved to HE_0435/HE_0435_cropped_ring_SR.fits\n"
     ]
    }
   ],
   "source": [
    "from astropy.io import fits\n",
    "import numpy as np\n",
    "\n",
    "def subtract_fits(file1, file2, output_file):\n",
    "    \"\"\"\n",
    "    Subtracts one FITS file from another and saves the result as a new FITS file.\n",
    "\n",
    "    Parameters:\n",
    "        file1 (str): Path to the first FITS file.\n",
    "        file2 (str): Path to the second FITS file.\n",
    "        output_file (str): Path to save the resulting FITS file.\n",
    "    \"\"\"\n",
    "    # Open the first FITS file\n",
    "    with fits.open(file1) as hdul1:\n",
    "        data1 = hdul1[0].data  # Assuming image data is in the primary HDU\n",
    "        header1 = hdul1[0].header  # Keep the header of the first file\n",
    "\n",
    "    # Open the second FITS file\n",
    "    with fits.open(file2) as hdul2:\n",
    "        data2 = hdul2[0].data  # Assuming image data is in the primary HDU\n",
    "\n",
    "    # Ensure both FITS files have the same dimensions\n",
    "    if data1.shape != data2.shape:\n",
    "        raise ValueError(\"The two FITS files have different dimensions and cannot be subtracted.\")\n",
    "\n",
    "    # Perform the subtraction\n",
    "    result_data = data1 - data2\n",
    "\n",
    "    # Create a new FITS HDU with the result\n",
    "    hdu = fits.PrimaryHDU(data=result_data, header=header1)\n",
    "\n",
    "    # Write the result to a new FITS file\n",
    "    hdu.writeto(output_file, overwrite=True)\n",
    "    print(f\"Subtraction complete. Result saved to {output_file}\")\n",
    "\n",
    "\n",
    "# Example usage\n",
    "file1 = \"HE_0435/HE_0435_cropped.fits\"  # Replace with the path to your first FITS file\n",
    "file2 = \"HE_0435/HE_0435_cropped_mask_residual_ring_for_SR.fits\"  # Replace with the path to your second FITS file\n",
    "output_file = \"HE_0435/HE_0435_cropped_ring_SR.fits\"  # Replace with the desired output file path\n",
    "\n",
    "subtract_fits(file1, file2, output_file)"
   ]
  }
 ],
 "metadata": {
  "kernelspec": {
   "display_name": "Python 3 (ipykernel)",
   "language": "python",
   "name": "python3"
  },
  "language_info": {
   "codemirror_mode": {
    "name": "ipython",
    "version": 3
   },
   "file_extension": ".py",
   "mimetype": "text/x-python",
   "name": "python",
   "nbconvert_exporter": "python",
   "pygments_lexer": "ipython3",
   "version": "3.9.13"
  }
 },
 "nbformat": 4,
 "nbformat_minor": 5
}
