{
 "cells": [
  {
   "cell_type": "code",
   "execution_count": 1,
   "id": "45a2fce3",
   "metadata": {},
   "outputs": [
    {
     "name": "stdout",
     "output_type": "stream",
     "text": [
      "Filename: HE_0435/HE_0435_OG_Image.fits\n",
      "No.    Name      Ver    Type      Cards   Dimensions   Format\n",
      "  0  PRIMARY       1 PrimaryHDU    1164   ()      \n",
      "  1  SCI           1 ImageHDU        92   (1391, 1268)   float32   \n",
      "  2  WHT           1 ImageHDU        45   (1391, 1268)   float32   \n",
      "  3  CTX           1 ImageHDU        40   (1391, 1268)   int32   \n",
      "  4  HDRTAB        1 BinTableHDU    564   24R x 277C   [9A, 3A, K, D, D, D, D, D, D, D, D, D, D, D, D, K, 2A, 9A, 7A, 18A, D, D, D, D, D, 3A, D, D, D, D, D, D, D, D, D, D, D, D, K, K, D, 3A, D, D, D, D, K, K, 8A, 23A, 11A, 19A, 4A, D, D, K, K, D, D, D, D, 23A, D, D, D, D, K, K, D, 3A, 8A, L, D, D, D, 23A, 1A, D, D, D, D, D, D, 12A, 12A, 8A, 23A, D, D, 10A, 10A, D, D, D, 2A, 23A, 3A, 4A, 8A, 7A, D, K, D, 6A, 9A, D, D, D, 4A, 44A, 3A, K, 5A, D, D, D, 8A, D, 3A, D, D, D, 3A, 1A, D, 23A, D, D, D, 3A, L, 1A, 4A, D, 3A, 6A, D, D, D, D, D, 23A, D, D, D, D, D, 1A, K, K, K, K, 8A, 23A, K, K, 10A, 7A, D, D, D, D, D, D, D, D, D, D, D, D, D, D, D, D, D, 12A, D, 24A, 23A, D, 2A, 8A, D, K, D, D, 6A, 4A, D, 2A, 8A, D, K, D, D, 6A, 13A, D, D, 4A, 3A, K, 23A, D, 8A, D, D, 13A, D, D, L, D, D, 6A, 4A, 2A, 4A, D, 1A, K, 1A, 1A, 1A, 1A, D, D, D, D, D, D, 4A, D, D, 7A, 3A, 1A, K, 3A, 7A, K, D, D, D, 4A, K, D, D, D, L, K, K, 1A, D, D, D, D, K, L, 6A, L, 8A, D, D, 1A, 11A, K, 3A, 8A, 8A, D, K, D, 8A, 8A, 30A, 62A, 51A]   \n"
     ]
    }
   ],
   "source": [
    "from astropy.io import fits\n",
    "fits.info(\"HE_0435/HE_0435_OG_Image.fits\")\n",
    "\n",
    "# i.e Dimension of (1391, 1268) refers to 1391 pixels wide (columns) and 1268 pixels tall (rows)"
   ]
  },
  {
   "cell_type": "code",
   "execution_count": 5,
   "id": "9cb44f4b",
   "metadata": {},
   "outputs": [
    {
     "name": "stdout",
     "output_type": "stream",
     "text": [
      "Masking FITS file created: HE_0435/HE_0435_cropped_mask_ring_Halo_SR.fits\n"
     ]
    }
   ],
   "source": [
    "# Code to mask pixels in the region to have a pixel value of 1 \n",
    "import numpy as np\n",
    "from astropy.io import fits\n",
    "from astropy.wcs import WCS\n",
    "from regions import Regions, CircleAnnulusPixelRegion, PixCoord\n",
    "\n",
    "def create_mask(fits_file, region_file, output_mask_file, hdu_index=0):\n",
    "    \"\"\"\n",
    "    Create a masking FITS file based on a region file. The mask will have\n",
    "    pixel values of 1 inside the regions and 0 outside.\n",
    "\n",
    "    Parameters:\n",
    "    - fits_file: str, path to the input FITS file.\n",
    "    - region_file: str, path to the DS9 region file.\n",
    "    - output_mask_file: str, path to save the output masking FITS file.\n",
    "    - hdu_index: int, index of the HDU to use from the FITS file (default is 0).\n",
    "\n",
    "    Returns:\n",
    "    - None. The masking FITS file is saved to output_mask_file.\n",
    "    \"\"\"\n",
    "\n",
    "    # Load the FITS file\n",
    "    with fits.open(fits_file) as hdul:\n",
    "        # Check if the provided HDU index is valid\n",
    "        if hdu_index >= len(hdul):\n",
    "            raise ValueError(f\"HDU index {hdu_index} is out of range. FITS file has {len(hdul)} HDUs.\")\n",
    "        \n",
    "        # Select the specified HDU\n",
    "        hdu = hdul[hdu_index]\n",
    "        if hdu.data is None:\n",
    "            raise ValueError(f\"The selected HDU[{hdu_index}] does not contain image data.\")\n",
    "        \n",
    "        # Extract data and header from the selected HDU\n",
    "        data = hdu.data\n",
    "        header = hdu.header\n",
    "\n",
    "        # Load the WCS from the header\n",
    "        wcs = WCS(header)\n",
    "\n",
    "    # Create an empty mask with the same shape as the FITS file\n",
    "    mask = np.zeros(data.shape, dtype=np.int16)\n",
    "\n",
    "    # Load the region file\n",
    "    regions = Regions.read(region_file, format=\"ds9\")\n",
    "\n",
    "    # Process each region\n",
    "    for region in regions:\n",
    "        # Check if the region is in pixel or sky coordinates\n",
    "        if hasattr(region, \"to_pixel\"):\n",
    "            # Convert sky regions to pixel regions\n",
    "            pixel_region = region.to_pixel(wcs)\n",
    "        else:\n",
    "            # Region is already in pixel coordinates\n",
    "            pixel_region = region\n",
    "\n",
    "        # Create a mask for the current region\n",
    "        region_mask = pixel_region.to_mask(mode=\"center\")\n",
    "        mask_data = region_mask.to_image(data.shape)\n",
    "\n",
    "        # Add the region mask to the overall mask\n",
    "        if mask_data is not None:  # Ensure the region is within the image bounds\n",
    "            mask += (mask_data > 0).astype(np.int16)\n",
    "\n",
    "    # Ensure the mask only contains 0 and 1 values\n",
    "    mask = np.clip(mask, 0, 1)\n",
    "\n",
    "    # Save the mask as a new FITS file\n",
    "    hdu = fits.PrimaryHDU(mask, header=header)\n",
    "    hdu.writeto(output_mask_file, overwrite=True)\n",
    "\n",
    "    print(f\"Masking FITS file created: {output_mask_file}\")\n",
    "\n",
    "\n",
    "# Example usage\n",
    "if __name__ == \"__main__\":\n",
    "    # Input FITS file\n",
    "    fits_file = \"HE_0435/HE_0435_cropped_ring_SR.fits\"  # Input original fits file \n",
    "\n",
    "    # Input region file\n",
    "    region_file = \"HE_0435/HE_0435 Mask_Halo_SR.reg\"  # Replace with your region file path\n",
    "\n",
    "    # Output mask FITS file\n",
    "    output_mask_file = \"HE_0435/HE_0435_cropped_mask_ring_Halo_SR.fits\"  # Replace with desired output path\n",
    "\n",
    "    # Specify the HDU index you want to use\n",
    "    hdu_index = 0  # Replace with the desired HDU index (e.g., 0, 1, 2, etc.)\n",
    "\n",
    "    # Run the function\n",
    "    create_mask(fits_file, region_file, output_mask_file, hdu_index=hdu_index)"
   ]
  },
  {
   "cell_type": "code",
   "execution_count": null,
   "id": "ebe24bda",
   "metadata": {},
   "outputs": [],
   "source": []
  }
 ],
 "metadata": {
  "kernelspec": {
   "display_name": "Python 3 (ipykernel)",
   "language": "python",
   "name": "python3"
  },
  "language_info": {
   "codemirror_mode": {
    "name": "ipython",
    "version": 3
   },
   "file_extension": ".py",
   "mimetype": "text/x-python",
   "name": "python",
   "nbconvert_exporter": "python",
   "pygments_lexer": "ipython3",
   "version": "3.9.13"
  }
 },
 "nbformat": 4,
 "nbformat_minor": 5
}
