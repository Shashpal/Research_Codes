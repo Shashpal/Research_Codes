{
 "cells": [
  {
   "cell_type": "code",
   "execution_count": 1,
   "id": "5e3e1579",
   "metadata": {},
   "outputs": [
    {
     "name": "stdout",
     "output_type": "stream",
     "text": [
      "Final noise map saved to 'HE_0435/noise_map_fixed.fits'.\n"
     ]
    }
   ],
   "source": [
    "import numpy as np\n",
    "from astropy.io import fits\n",
    "import os\n",
    "\n",
    "def calculate_noisemap(fits_file, exposure_time, random_noise, output_file):\n",
    "    \"\"\"\n",
    "    Calculate the photon noise and final noise map from a given FITS file.\n",
    "    \n",
    "    Parameters:\n",
    "        fits_file (str): Path to the original FITS file.\n",
    "        exposure_time (float): Exposure time in seconds.\n",
    "        random_noise (float): Measured random noise of the image.\n",
    "        output_file (str): Path to save the resulting noise map FITS file.\n",
    "    \"\"\"\n",
    "    # Step 1: Load the original FITS file\n",
    "    if not os.path.exists(fits_file):\n",
    "        print(f\"Error: File '{fits_file}' does not exist.\")\n",
    "        return\n",
    "    \n",
    "    with fits.open(fits_file) as hdul:\n",
    "        original_data = hdul[1].data  # Assuming the FITS file has a single data extension\n",
    "        header = hdul[1].header       # Keep the header for saving later\n",
    "    \n",
    "    # Step 2: Convert the FITS data to units of electrons by multiplying with exposure time\n",
    "    data_in_electrons = original_data * exposure_time\n",
    "\n",
    "    # Step 3: Select pixels with values larger than 3 * sigma of the random noise\n",
    "    threshold = 3 * random_noise\n",
    "    selected_pixels = np.where(data_in_electrons > threshold)\n",
    "\n",
    "    # Step 4: Compute the photon noise for the selected pixels (sqrt of pixel value)\n",
    "    photon_noise = np.zeros_like(data_in_electrons)  # Initialize an array with the same shape\n",
    "    photon_noise[selected_pixels] = np.sqrt(data_in_electrons[selected_pixels])\n",
    "\n",
    "    # Step 5: Convert back to units of electrons per second\n",
    "    photon_noise_in_electrons_per_second = photon_noise / exposure_time\n",
    "\n",
    "    # Step 6: Calculate the final noise map\n",
    "    final_noise_map = np.sqrt(random_noise**2 + photon_noise_in_electrons_per_second**2)\n",
    "\n",
    "    # Save the final noise map to a new FITS file\n",
    "    hdu = fits.PrimaryHDU(data=final_noise_map, header=header)\n",
    "    hdu.writeto(output_file, overwrite=True)\n",
    "    print(f\"Final noise map saved to '{output_file}'.\")\n",
    "\n",
    "# Example usage:\n",
    "# Provide the path to your input FITS file, exposure time, random noise, and output file name\n",
    "fits_file = \"HE_0435/HE_0435_OG_Image.fits\"  # Replace with your FITS file\n",
    "exposure_time = 9940  # Replace with your exposure time (in seconds)\n",
    "random_noise = 0.00738281  # Replace with your measured random noise (e.g., standard deviation of the background)\n",
    "output_file = \"HE_0435/noise_map_fixed.fits\"  # Replace with your desired output file name\n",
    "\n",
    "calculate_noisemap(fits_file, exposure_time, random_noise, output_file)"
   ]
  }
 ],
 "metadata": {
  "kernelspec": {
   "display_name": "Python 3 (ipykernel)",
   "language": "python",
   "name": "python3"
  },
  "language_info": {
   "codemirror_mode": {
    "name": "ipython",
    "version": 3
   },
   "file_extension": ".py",
   "mimetype": "text/x-python",
   "name": "python",
   "nbconvert_exporter": "python",
   "pygments_lexer": "ipython3",
   "version": "3.9.13"
  }
 },
 "nbformat": 4,
 "nbformat_minor": 5
}
